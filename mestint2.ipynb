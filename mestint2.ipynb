{
  "nbformat": 4,
  "nbformat_minor": 0,
  "metadata": {
    "colab": {
      "provenance": [],
      "authorship_tag": "ABX9TyNAqeTd61AAkeuvI88WaaGI",
      "include_colab_link": true
    },
    "kernelspec": {
      "name": "python3",
      "display_name": "Python 3"
    },
    "language_info": {
      "name": "python"
    }
  },
  "cells": [
    {
      "cell_type": "markdown",
      "metadata": {
        "id": "view-in-github",
        "colab_type": "text"
      },
      "source": [
        "<a href=\"https://colab.research.google.com/github/eszterurban/mestint/blob/main/mestint2.ipynb\" target=\"_parent\"><img src=\"https://colab.research.google.com/assets/colab-badge.svg\" alt=\"Open In Colab\"/></a>"
      ]
    },
    {
      "cell_type": "code",
      "source": [
        "from ai.problem import Problem\n",
        "\n",
        "class Cup3(Problem):\n",
        "  def actions(self, state):\n",
        "    acts = []\n",
        "    five, three, two = state\n",
        "    if five  > 0 and three < 3:\n",
        "      acts.append(\"5-->3\")\n",
        "    if five > 0 and two < 2:\n",
        "      acts.append(\"5-->2\")\n",
        "    if three > 0 and five < 5:\n",
        "      acts.append(\"3-->5\")\n",
        "    if three > 0 and two < 2:\n",
        "      acts.append(\"3-->2\")\n",
        "    if two > 0 and five < 5:\n",
        "      acts.append(\"2-->5\")\n",
        "    if two > 0 and three < 3:\n",
        "      acts.append(\"2-->3\")\n",
        "    return acts\n",
        "\n",
        "  def result(self, state, action):\n",
        "    five, three, two = state\n",
        "    if action == \"5-->3\":\n",
        "      m = min(five, 3-three)\n",
        "      return(five-m, three+m, two)\n",
        "    if action == \"5-->2\":\n",
        "      m = min(five, 2-two)\n",
        "      return(five-m, three, two+m)\n",
        "    if action == \"3-->5\":\n",
        "      m = min(three, 5-five)\n",
        "      return(five+m, three-m, two)\n",
        "    if action == \"3-->2\":\n",
        "      m = min(three, 2-two)\n",
        "      return(five, three-m, two+m)\n",
        "    if action == \"2-->5\":\n",
        "      m = min(two, 5-five)\n",
        "      return(five+m, three, two-m)\n",
        "    if action == \"2-->3\":\n",
        "      m = min(two, 3-three)\n",
        "      return(five, three+m, two-m)"
      ],
      "metadata": {
        "id": "W--uHYBj38uO"
      },
      "execution_count": null,
      "outputs": []
    },
    {
      "cell_type": "code",
      "execution_count": null,
      "metadata": {
        "id": "Stfpg_dIy67t"
      },
      "outputs": [],
      "source": [
        "from ai.cup3 import Cup3\n",
        "\n",
        "c = Cup3((5,0,0),[(4,1,0),(4,0,1)])"
      ]
    },
    {
      "cell_type": "code",
      "source": [
        "c.initial"
      ],
      "metadata": {
        "colab": {
          "base_uri": "https://localhost:8080/"
        },
        "id": "8Mnr3sqWA2bn",
        "outputId": "3c08dba7-fa7e-4d9d-de1a-4af82a16d5a8"
      },
      "execution_count": null,
      "outputs": [
        {
          "output_type": "execute_result",
          "data": {
            "text/plain": [
              "(5, 0, 0)"
            ]
          },
          "metadata": {},
          "execution_count": 31
        }
      ]
    },
    {
      "cell_type": "code",
      "source": [
        "import numpy as np\n",
        "\n",
        "from ai.node import Node\n",
        "\n",
        "def trial_error(problem):\n",
        "  state = Node(problem.initial)\n",
        "\n",
        "  while True:\n",
        "    if problem.goal_test(state.state):\n",
        "      print(\"Got it!\")\n",
        "      return state\n",
        "\n",
        "    succesors = state.expand(problem)\n",
        "\n",
        "    if len(succesors)==0:\n",
        "      return \"unsolvable\"\n",
        "\n",
        "    state=succesors[np.random.randint(0,len(succesors))]\n",
        "    print(state)\n",
        "\n",
        "def hill_climbing(problem, heuristic):\n",
        "  state = Node(problem.initial)\n",
        "\n",
        "  while True:\n",
        "    if problem.goal_test(state.state):\n",
        "      print(\"Got it!\")\n",
        "      return state\n",
        "\n",
        "    succesors = state.expand(problem)\n",
        "\n",
        "    test_succesors=[]\n",
        "    for s_test in succesors:\n",
        "      if heuristic(state.state)>=heuristic(s_test.state):\n",
        "        test_succesors.append(s_test)\n",
        "    \n",
        "    if len(test_succesors)==0:\n",
        "      return \"unsolvable\"\n",
        "    \n",
        "    state=test_succesors[np.random.randint(0,len(test_succesors))]\n",
        "    print(state)"
      ],
      "metadata": {
        "id": "xCnZirqM724n"
      },
      "execution_count": null,
      "outputs": []
    },
    {
      "cell_type": "code",
      "source": [
        "print(trial_error(c).solution())"
      ],
      "metadata": {
        "colab": {
          "base_uri": "https://localhost:8080/"
        },
        "id": "caQpMxJpBAOK",
        "outputId": "4b6a8995-e51a-4e00-f146-4cd6327f7ac3"
      },
      "execution_count": null,
      "outputs": [
        {
          "output_type": "stream",
          "name": "stdout",
          "text": [
            "<Node (3, 0, 2)>\n",
            "<Node (3, 2, 0)>\n",
            "<Node (5, 0, 0)>\n",
            "<Node (2, 3, 0)>\n",
            "<Node (5, 0, 0)>\n",
            "<Node (3, 0, 2)>\n",
            "<Node (3, 2, 0)>\n",
            "<Node (1, 2, 2)>\n",
            "<Node (3, 2, 0)>\n",
            "<Node (3, 0, 2)>\n",
            "<Node (0, 3, 2)>\n",
            "<Node (3, 0, 2)>\n",
            "<Node (3, 2, 0)>\n",
            "<Node (2, 3, 0)>\n",
            "<Node (0, 3, 2)>\n",
            "<Node (3, 0, 2)>\n",
            "<Node (3, 2, 0)>\n",
            "<Node (2, 3, 0)>\n",
            "<Node (2, 1, 2)>\n",
            "<Node (4, 1, 0)>\n",
            "Got it!\n",
            "['5-->2', '2-->3', '3-->5', '5-->3', '3-->5', '5-->2', '2-->3', '5-->2', '2-->5', '3-->2', '5-->3', '3-->5', '2-->3', '5-->3', '5-->2', '3-->5', '2-->3', '5-->3', '3-->2', '2-->5']\n"
          ]
        }
      ]
    },
    {
      "cell_type": "code",
      "source": [
        "def huristic_calc_empty_jar(State):\n",
        "  if State==(4,0,1) or State==(4,1,0):\n",
        "    return 0\n",
        "  c=0\n",
        "  for i in State:\n",
        "    if i == 0:\n",
        "      c+=1\n",
        "  return c+1\n",
        "\n",
        "print(hill_climbing(c, huristic_calc_empty_jar).solution())"
      ],
      "metadata": {
        "colab": {
          "base_uri": "https://localhost:8080/"
        },
        "id": "6LA_LrYa_QRc",
        "outputId": "2ba18c14-512c-447c-f9d1-0d2d5e2302b0"
      },
      "execution_count": null,
      "outputs": [
        {
          "output_type": "stream",
          "name": "stdout",
          "text": [
            "<Node (2, 3, 0)>\n",
            "<Node (0, 3, 2)>\n",
            "<Node (3, 0, 2)>\n",
            "<Node (3, 2, 0)>\n",
            "<Node (3, 0, 2)>\n",
            "<Node (3, 2, 0)>\n",
            "<Node (3, 0, 2)>\n",
            "<Node (3, 2, 0)>\n",
            "<Node (2, 3, 0)>\n",
            "<Node (2, 1, 2)>\n",
            "<Node (4, 1, 0)>\n",
            "Got it!\n",
            "['5-->3', '5-->2', '3-->5', '2-->3', '3-->2', '2-->3', '3-->2', '2-->3', '5-->3', '3-->2', '2-->5']\n"
          ]
        }
      ]
    }
  ]
}