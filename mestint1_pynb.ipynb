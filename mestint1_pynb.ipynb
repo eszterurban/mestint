{
  "nbformat": 4,
  "nbformat_minor": 0,
  "metadata": {
    "colab": {
      "provenance": [],
      "authorship_tag": "ABX9TyOzf6T6aRy45MSf0i9EarrC",
      "include_colab_link": true
    },
    "kernelspec": {
      "name": "python3",
      "display_name": "Python 3"
    },
    "language_info": {
      "name": "python"
    }
  },
  "cells": [
    {
      "cell_type": "markdown",
      "metadata": {
        "id": "view-in-github",
        "colab_type": "text"
      },
      "source": [
        "<a href=\"https://colab.research.google.com/github/eszterurban/mestint/blob/main/mestint1_pynb.ipynb\" target=\"_parent\"><img src=\"https://colab.research.google.com/assets/colab-badge.svg\" alt=\"Open In Colab\"/></a>"
      ]
    },
    {
      "cell_type": "code",
      "source": [
        "class Problem:\n",
        "    def __init__(self, initial, goal=None):\n",
        "        self.initial = initial \n",
        "\n",
        "        self.goal = goal\n",
        "\n",
        "    def actions(self, state):\n",
        "        raise NotImplementedError\n",
        "\n",
        "    def result(self, state, action):\n",
        "        raise NotImplementedError\n",
        "\n",
        "    def goal_test(self, state):\n",
        "        if isinstance(self.goal, list):\n",
        "            for s in self.goal:\n",
        "                if s==state:\n",
        "                    return True\n",
        "\n",
        "            return False\n",
        "        else:\n",
        "            return state == self.goal\n",
        "\n",
        "    def path_cost(self, c, state1, action, state2):\n",
        "        return c + 1\n",
        "\n",
        "    def value(self, state):\n",
        "        raise NotImplementedError"
      ],
      "metadata": {
        "id": "CfFIwT5AyX4m"
      },
      "execution_count": null,
      "outputs": []
    },
    {
      "cell_type": "code",
      "source": [
        "from ai.problem import Problem\n",
        "\n",
        "problem = Problem((5,0,0), [(4,1,0),(4,0,1)])\n",
        "problem.initial, problem.goal"
      ],
      "metadata": {
        "colab": {
          "base_uri": "https://localhost:8080/",
          "height": 356
        },
        "id": "yUZrBec1rJn_",
        "outputId": "569283bf-a331-4399-a188-4b70b485e77c"
      },
      "execution_count": null,
      "outputs": [
        {
          "output_type": "error",
          "ename": "ModuleNotFoundError",
          "evalue": "ignored",
          "traceback": [
            "\u001b[0;31m---------------------------------------------------------------------------\u001b[0m",
            "\u001b[0;31mModuleNotFoundError\u001b[0m                       Traceback (most recent call last)",
            "\u001b[0;32m<ipython-input-1-08c7d1afa882>\u001b[0m in \u001b[0;36m<module>\u001b[0;34m\u001b[0m\n\u001b[0;32m----> 1\u001b[0;31m \u001b[0;32mfrom\u001b[0m \u001b[0mai\u001b[0m\u001b[0;34m.\u001b[0m\u001b[0mproblem\u001b[0m \u001b[0;32mimport\u001b[0m \u001b[0mProblem\u001b[0m\u001b[0;34m\u001b[0m\u001b[0;34m\u001b[0m\u001b[0m\n\u001b[0m\u001b[1;32m      2\u001b[0m \u001b[0;34m\u001b[0m\u001b[0m\n\u001b[1;32m      3\u001b[0m \u001b[0mproblem\u001b[0m \u001b[0;34m=\u001b[0m \u001b[0mProblem\u001b[0m\u001b[0;34m(\u001b[0m\u001b[0;34m(\u001b[0m\u001b[0;36m5\u001b[0m\u001b[0;34m,\u001b[0m\u001b[0;36m0\u001b[0m\u001b[0;34m,\u001b[0m\u001b[0;36m0\u001b[0m\u001b[0;34m)\u001b[0m\u001b[0;34m,\u001b[0m \u001b[0;34m[\u001b[0m\u001b[0;34m(\u001b[0m\u001b[0;36m4\u001b[0m\u001b[0;34m,\u001b[0m\u001b[0;36m1\u001b[0m\u001b[0;34m,\u001b[0m\u001b[0;36m0\u001b[0m\u001b[0;34m)\u001b[0m\u001b[0;34m,\u001b[0m\u001b[0;34m(\u001b[0m\u001b[0;36m4\u001b[0m\u001b[0;34m,\u001b[0m\u001b[0;36m0\u001b[0m\u001b[0;34m,\u001b[0m\u001b[0;36m1\u001b[0m\u001b[0;34m)\u001b[0m\u001b[0;34m]\u001b[0m\u001b[0;34m)\u001b[0m\u001b[0;34m\u001b[0m\u001b[0;34m\u001b[0m\u001b[0m\n\u001b[1;32m      4\u001b[0m \u001b[0mproblem\u001b[0m\u001b[0;34m.\u001b[0m\u001b[0minitial\u001b[0m\u001b[0;34m,\u001b[0m \u001b[0mproblem\u001b[0m\u001b[0;34m.\u001b[0m\u001b[0mgoal\u001b[0m\u001b[0;34m\u001b[0m\u001b[0;34m\u001b[0m\u001b[0m\n",
            "\u001b[0;31mModuleNotFoundError\u001b[0m: No module named 'ai'",
            "",
            "\u001b[0;31m---------------------------------------------------------------------------\u001b[0;32m\nNOTE: If your import is failing due to a missing package, you can\nmanually install dependencies using either !pip or !apt.\n\nTo view examples of installing some common dependencies, click the\n\"Open Examples\" button below.\n\u001b[0;31m---------------------------------------------------------------------------\u001b[0m\n"
          ],
          "errorDetails": {
            "actions": [
              {
                "action": "open_url",
                "actionText": "Open Examples",
                "url": "/notebooks/snippets/importing_libraries.ipynb"
              }
            ]
          }
        }
      ]
    },
    {
      "cell_type": "code",
      "source": [
        "class Node:\n",
        "  def __init__(self, state, parent=None, action=None, path_cost=0):\n",
        "    self.state = state\n",
        "    self.parent = parent\n",
        "    self.action = action\n",
        "    self.path_cost = path_cost\n",
        "    self.depth = 0\n",
        "    if parent:\n",
        "      self.depth = parent.depth + 1\n",
        "  \n",
        "  def __repr__(self):\n",
        "    return \"<Node {}>\".format(self.state)\n",
        "\n",
        "  def __lt__(self, node):\n",
        "    return self.state < node.state\n",
        "\n",
        "  def __eq__(self, other):\n",
        "    return isinstance(other, Node) and self.state == other.state\n",
        "\n",
        "  def __hash__(self):\n",
        "    return hash(self.state)\n",
        "\n",
        "  def child_node(self, problem, action):\n",
        "    next_state = problem.result(self.state, action)\n",
        "    next_node = Node(state = next_state,\n",
        "                      parent = self,\n",
        "                      action = action,\n",
        "                      path_cost = problem.path_cost(self.path_cost, self.state, action, next_state))\n",
        "    return next_node\n",
        "\n",
        "  def expand(self, problem):\n",
        "    return [self.child_node(problem, action) for action in problem.actions(self.state)]\n",
        "\n",
        "  def solution(self):\n",
        "    return [node.action for node in self.path()[1:]]\n",
        "\n",
        "  def path(self):\n",
        "    node, path_back = self, []\n",
        "    while node:\n",
        "      path_back.append(node)\n",
        "      node= node.parent\n",
        "    return list(reversed(path_back)) "
      ],
      "metadata": {
        "id": "4hL62Rkw7QBL"
      },
      "execution_count": null,
      "outputs": []
    },
    {
      "cell_type": "code",
      "source": [
        "from ai.node import Node\n",
        "\n",
        "state1 = Node(1)\n",
        "type(state1)"
      ],
      "metadata": {
        "colab": {
          "base_uri": "https://localhost:8080/"
        },
        "id": "RmIeGnGnt0w_",
        "outputId": "ea32939d-1bb2-4399-f9c5-2730aa2183b3"
      },
      "execution_count": null,
      "outputs": [
        {
          "output_type": "execute_result",
          "data": {
            "text/plain": [
              "ai.node.Node"
            ]
          },
          "metadata": {},
          "execution_count": 2
        }
      ]
    },
    {
      "cell_type": "code",
      "source": [
        "from ai.node import Node\n",
        "\n",
        "state2 = Node(state=2, parent=state1)\n",
        "state2"
      ],
      "metadata": {
        "colab": {
          "base_uri": "https://localhost:8080/"
        },
        "id": "kXFXiwH5t9Uv",
        "outputId": "fa52e5b5-a483-42ee-bc80-fec8c24d3e41"
      },
      "execution_count": null,
      "outputs": [
        {
          "output_type": "execute_result",
          "data": {
            "text/plain": [
              "<Node 2>"
            ]
          },
          "metadata": {},
          "execution_count": 3
        }
      ]
    },
    {
      "cell_type": "code",
      "source": [
        "from ai.node import Node\n",
        "\n",
        "print(state1 is object)"
      ],
      "metadata": {
        "colab": {
          "base_uri": "https://localhost:8080/"
        },
        "id": "Ih0Q1kXhuBcn",
        "outputId": "10d56bd8-b34b-4193-d844-938a874bc130"
      },
      "execution_count": null,
      "outputs": [
        {
          "output_type": "stream",
          "name": "stdout",
          "text": [
            "False\n"
          ]
        }
      ]
    },
    {
      "cell_type": "code",
      "source": [
        "from ai.node import Node\n",
        "\n",
        "if state1 > state2:\n",
        "    print(\"state1 a nagyobb\")\n",
        "elif state1 < state2:\n",
        "    print(\"state2 a nagyobb\")\n",
        "else:\n",
        "    print(\"Egyenlőek\")"
      ],
      "metadata": {
        "colab": {
          "base_uri": "https://localhost:8080/"
        },
        "id": "ZgP791WTuECX",
        "outputId": "e83456b2-a8d8-46b9-e460-ad023a27ee5f"
      },
      "execution_count": null,
      "outputs": [
        {
          "output_type": "stream",
          "name": "stdout",
          "text": [
            "state2 a nagyobb\n"
          ]
        }
      ]
    },
    {
      "cell_type": "code",
      "source": [
        "from ai.node import Node\n",
        "\n",
        "state1 = Node(1)\n",
        "hash(state1)"
      ],
      "metadata": {
        "id": "Fd6iaJpDuGA3",
        "outputId": "b1d2de30-7b9d-4c68-d177-2fb1abd4e7bf",
        "colab": {
          "base_uri": "https://localhost:8080/"
        }
      },
      "execution_count": null,
      "outputs": [
        {
          "output_type": "execute_result",
          "data": {
            "text/plain": [
              "1"
            ]
          },
          "metadata": {},
          "execution_count": 6
        }
      ]
    },
    {
      "cell_type": "code",
      "source": [
        "from ai.node import Node\n",
        "b = Node(4)\n",
        "a = Node(2, b)\n",
        "a.parent.state"
      ],
      "metadata": {
        "colab": {
          "base_uri": "https://localhost:8080/"
        },
        "id": "-i2isVXO6U6z",
        "outputId": "1dac5646-2bcb-4e35-b590-a946d1259bf8"
      },
      "execution_count": null,
      "outputs": [
        {
          "output_type": "execute_result",
          "data": {
            "text/plain": [
              "4"
            ]
          },
          "metadata": {},
          "execution_count": 8
        }
      ]
    },
    {
      "cell_type": "code",
      "source": [
        "from ai.node import Node\n",
        "\n",
        "a<b"
      ],
      "metadata": {
        "colab": {
          "base_uri": "https://localhost:8080/"
        },
        "id": "npNL5p6e7adc",
        "outputId": "86fedb76-3a7e-4365-ad4a-c05c367a5a79"
      },
      "execution_count": null,
      "outputs": [
        {
          "output_type": "execute_result",
          "data": {
            "text/plain": [
              "True"
            ]
          },
          "metadata": {},
          "execution_count": 10
        }
      ]
    }
  ]
}